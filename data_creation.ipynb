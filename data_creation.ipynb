{
 "cells": [
  {
   "cell_type": "code",
   "execution_count": 4,
   "metadata": {},
   "outputs": [],
   "source": [
    "import bnlearn\n",
    "import numpy as np"
   ]
  },
  {
   "cell_type": "markdown",
   "metadata": {},
   "source": [
    "# Sample data points from a DAG"
   ]
  },
  {
   "cell_type": "code",
   "execution_count": 35,
   "metadata": {},
   "outputs": [
    {
     "name": "stdout",
     "output_type": "stream",
     "text": [
      "[bnlearn] >Loading bif file <./child.bif>\n"
     ]
    },
    {
     "name": "stderr",
     "output_type": "stream",
     "text": [
      "Generating for node: Disease:   0%|          | 0/20 [00:00<?, ?it/s]      "
     ]
    },
    {
     "name": "stdout",
     "output_type": "stream",
     "text": [
      "[bnlearn] >Checking CPDs..\n",
      "[bnlearn] >Warning: CPD [Age] does not add up to 1 but is: [[1. 1.]\n",
      " [1. 1.]\n",
      " [1. 1.]\n",
      " [1. 1.]\n",
      " [1. 1.]\n",
      " [1. 1.]]\n",
      "[bnlearn] >Warning: CPD [ChestXray] does not add up to 1 but is: [[1. 1. 1.]\n",
      " [1. 1. 1.]\n",
      " [1. 1. 1.]]\n",
      "[bnlearn] >Warning: CPD [HypoxiaInO2] does not add up to 1 but is: [[1. 1. 1.]\n",
      " [1. 1. 1.]\n",
      " [1. 1. 1.]\n",
      " [1. 1. 1.]]\n",
      "[bnlearn] >Warning: CPD [LowerBodyO2] does not add up to 1 but is: [[1. 1. 1.]\n",
      " [1. 1. 1.]]\n",
      "[bnlearn] >Warning: CPD [RUQO2] does not add up to 1 but is: [1. 1. 1.]\n",
      "[bnlearn] >Warning: CPD [XrayReport] does not add up to 1 but is: [1. 1. 1. 1. 1.]\n",
      "[bnlearn] >Check for DAG structure. Correct: True\n",
      "[bnlearn] >Forward sampling for 10000 samples..\n"
     ]
    },
    {
     "name": "stderr",
     "output_type": "stream",
     "text": [
      "Generating for node: LVHreport: 100%|██████████| 20/20 [00:06<00:00,  3.10it/s]    \n"
     ]
    },
    {
     "data": {
      "text/html": [
       "<div>\n",
       "<style scoped>\n",
       "    .dataframe tbody tr th:only-of-type {\n",
       "        vertical-align: middle;\n",
       "    }\n",
       "\n",
       "    .dataframe tbody tr th {\n",
       "        vertical-align: top;\n",
       "    }\n",
       "\n",
       "    .dataframe thead th {\n",
       "        text-align: right;\n",
       "    }\n",
       "</style>\n",
       "<table border=\"1\" class=\"dataframe\">\n",
       "  <thead>\n",
       "    <tr style=\"text-align: right;\">\n",
       "      <th></th>\n",
       "      <th>BirthAsphyxia</th>\n",
       "      <th>Disease</th>\n",
       "      <th>Sick</th>\n",
       "      <th>Age</th>\n",
       "      <th>LungFlow</th>\n",
       "      <th>LungParench</th>\n",
       "      <th>Grunting</th>\n",
       "      <th>GruntingReport</th>\n",
       "      <th>ChestXray</th>\n",
       "      <th>XrayReport</th>\n",
       "      <th>CO2</th>\n",
       "      <th>CO2Report</th>\n",
       "      <th>CardiacMixing</th>\n",
       "      <th>HypoxiaInO2</th>\n",
       "      <th>RUQO2</th>\n",
       "      <th>DuctFlow</th>\n",
       "      <th>HypDistrib</th>\n",
       "      <th>LowerBodyO2</th>\n",
       "      <th>LVH</th>\n",
       "      <th>LVHreport</th>\n",
       "    </tr>\n",
       "  </thead>\n",
       "  <tbody>\n",
       "    <tr>\n",
       "      <th>0</th>\n",
       "      <td>1</td>\n",
       "      <td>2</td>\n",
       "      <td>0</td>\n",
       "      <td>0</td>\n",
       "      <td>1</td>\n",
       "      <td>0</td>\n",
       "      <td>1</td>\n",
       "      <td>1</td>\n",
       "      <td>1</td>\n",
       "      <td>1</td>\n",
       "      <td>0</td>\n",
       "      <td>0</td>\n",
       "      <td>2</td>\n",
       "      <td>1</td>\n",
       "      <td>2</td>\n",
       "      <td>0</td>\n",
       "      <td>0</td>\n",
       "      <td>2</td>\n",
       "      <td>1</td>\n",
       "      <td>1</td>\n",
       "    </tr>\n",
       "    <tr>\n",
       "      <th>1</th>\n",
       "      <td>1</td>\n",
       "      <td>3</td>\n",
       "      <td>0</td>\n",
       "      <td>1</td>\n",
       "      <td>1</td>\n",
       "      <td>2</td>\n",
       "      <td>0</td>\n",
       "      <td>0</td>\n",
       "      <td>0</td>\n",
       "      <td>0</td>\n",
       "      <td>1</td>\n",
       "      <td>0</td>\n",
       "      <td>1</td>\n",
       "      <td>1</td>\n",
       "      <td>1</td>\n",
       "      <td>0</td>\n",
       "      <td>0</td>\n",
       "      <td>2</td>\n",
       "      <td>0</td>\n",
       "      <td>1</td>\n",
       "    </tr>\n",
       "    <tr>\n",
       "      <th>2</th>\n",
       "      <td>1</td>\n",
       "      <td>2</td>\n",
       "      <td>1</td>\n",
       "      <td>0</td>\n",
       "      <td>1</td>\n",
       "      <td>2</td>\n",
       "      <td>0</td>\n",
       "      <td>0</td>\n",
       "      <td>4</td>\n",
       "      <td>4</td>\n",
       "      <td>0</td>\n",
       "      <td>0</td>\n",
       "      <td>2</td>\n",
       "      <td>1</td>\n",
       "      <td>2</td>\n",
       "      <td>0</td>\n",
       "      <td>0</td>\n",
       "      <td>1</td>\n",
       "      <td>1</td>\n",
       "      <td>1</td>\n",
       "    </tr>\n",
       "    <tr>\n",
       "      <th>3</th>\n",
       "      <td>1</td>\n",
       "      <td>2</td>\n",
       "      <td>1</td>\n",
       "      <td>0</td>\n",
       "      <td>1</td>\n",
       "      <td>0</td>\n",
       "      <td>1</td>\n",
       "      <td>1</td>\n",
       "      <td>3</td>\n",
       "      <td>2</td>\n",
       "      <td>0</td>\n",
       "      <td>0</td>\n",
       "      <td>2</td>\n",
       "      <td>2</td>\n",
       "      <td>0</td>\n",
       "      <td>0</td>\n",
       "      <td>0</td>\n",
       "      <td>1</td>\n",
       "      <td>1</td>\n",
       "      <td>1</td>\n",
       "    </tr>\n",
       "    <tr>\n",
       "      <th>4</th>\n",
       "      <td>1</td>\n",
       "      <td>2</td>\n",
       "      <td>1</td>\n",
       "      <td>2</td>\n",
       "      <td>0</td>\n",
       "      <td>0</td>\n",
       "      <td>1</td>\n",
       "      <td>1</td>\n",
       "      <td>0</td>\n",
       "      <td>0</td>\n",
       "      <td>0</td>\n",
       "      <td>0</td>\n",
       "      <td>2</td>\n",
       "      <td>1</td>\n",
       "      <td>1</td>\n",
       "      <td>1</td>\n",
       "      <td>0</td>\n",
       "      <td>0</td>\n",
       "      <td>1</td>\n",
       "      <td>1</td>\n",
       "    </tr>\n",
       "  </tbody>\n",
       "</table>\n",
       "</div>"
      ],
      "text/plain": [
       "   BirthAsphyxia  Disease  Sick  Age  LungFlow  LungParench  Grunting  \\\n",
       "0              1        2     0    0         1            0         1   \n",
       "1              1        3     0    1         1            2         0   \n",
       "2              1        2     1    0         1            2         0   \n",
       "3              1        2     1    0         1            0         1   \n",
       "4              1        2     1    2         0            0         1   \n",
       "\n",
       "   GruntingReport  ChestXray  XrayReport  CO2  CO2Report  CardiacMixing  \\\n",
       "0               1          1           1    0          0              2   \n",
       "1               0          0           0    1          0              1   \n",
       "2               0          4           4    0          0              2   \n",
       "3               1          3           2    0          0              2   \n",
       "4               1          0           0    0          0              2   \n",
       "\n",
       "   HypoxiaInO2  RUQO2  DuctFlow  HypDistrib  LowerBodyO2  LVH  LVHreport  \n",
       "0            1      2         0           0            2    1          1  \n",
       "1            1      1         0           0            2    0          1  \n",
       "2            1      2         0           0            1    1          1  \n",
       "3            2      0         0           0            1    1          1  \n",
       "4            1      1         1           0            0    1          1  "
      ]
     },
     "execution_count": 35,
     "metadata": {},
     "output_type": "execute_result"
    }
   ],
   "source": [
    "# import bayesian graph with conditional probability distribution\n",
    "DAG = bnlearn.import_DAG('./data/child.bif', CPD=True)\n",
    "df = bnlearn.sampling(DAG, n=10000)\n",
    "df.head()"
   ]
  },
  {
   "cell_type": "code",
   "execution_count": 11,
   "metadata": {},
   "outputs": [
    {
     "name": "stdout",
     "output_type": "stream",
     "text": [
      "BirthAsphyxia {0, 1}\n",
      "Disease {0, 1, 2, 3, 4, 5}\n",
      "Sick {0, 1}\n",
      "Age {0, 1, 2}\n",
      "LungFlow {0, 1, 2}\n",
      "LungParench {0, 1, 2}\n",
      "Grunting {0, 1}\n",
      "GruntingReport {0, 1}\n",
      "ChestXray {0, 1, 2, 3, 4}\n",
      "XrayReport {0, 1, 2, 3, 4}\n",
      "CO2 {0, 1, 2}\n",
      "CO2Report {0, 1}\n",
      "CardiacMixing {0, 1, 2, 3}\n",
      "HypoxiaInO2 {0, 1, 2}\n",
      "RUQO2 {0, 1, 2}\n",
      "DuctFlow {0, 1, 2}\n",
      "HypDistrib {0, 1}\n",
      "LowerBodyO2 {0, 1, 2}\n",
      "LVH {0, 1}\n",
      "LVHreport {0, 1}\n"
     ]
    }
   ],
   "source": [
    "# check column values\n",
    "for column in df.columns:\n",
    "    print(column, set(df[column].values))"
   ]
  },
  {
   "cell_type": "code",
   "execution_count": 12,
   "metadata": {},
   "outputs": [],
   "source": [
    "# target label comes from GruntingReport node\n",
    "y = df[\"GruntingReport\"].values"
   ]
  },
  {
   "cell_type": "code",
   "execution_count": 23,
   "metadata": {},
   "outputs": [],
   "source": [
    "# add domain label at 1 index in y\n",
    "y = np.stack((y, df[\"Disease\"].values), 1)"
   ]
  },
  {
   "cell_type": "code",
   "execution_count": 25,
   "metadata": {},
   "outputs": [],
   "source": [
    "# remaining nodes form the input features\n",
    "x_df = df.drop([\"GruntingReport\", \"Disease\"],axis=1) "
   ]
  },
  {
   "cell_type": "code",
   "execution_count": 26,
   "metadata": {},
   "outputs": [],
   "source": [
    "# save the x and y values in npz\n",
    "np.savez('./data/child5Domains.npz', x_df.values, y)"
   ]
  },
  {
   "cell_type": "markdown",
   "metadata": {},
   "source": [
    "# 3 Domains Data"
   ]
  },
  {
   "cell_type": "code",
   "execution_count": 28,
   "metadata": {},
   "outputs": [
    {
     "name": "stderr",
     "output_type": "stream",
     "text": [
      "Generating for node: Disease:   0%|          | 0/20 [00:00<?, ?it/s]      "
     ]
    },
    {
     "name": "stdout",
     "output_type": "stream",
     "text": [
      "[bnlearn] >Forward sampling for 10000 samples..\n"
     ]
    },
    {
     "name": "stderr",
     "output_type": "stream",
     "text": [
      "Generating for node: LVHreport: 100%|██████████| 20/20 [00:05<00:00,  3.40it/s]    \n"
     ]
    }
   ],
   "source": [
    "# Creating dataset for 3 source domains\n",
    "df = bnlearn.sampling(DAG, n=10000)"
   ]
  },
  {
   "cell_type": "code",
   "execution_count": 29,
   "metadata": {},
   "outputs": [
    {
     "data": {
      "text/html": [
       "<div>\n",
       "<style scoped>\n",
       "    .dataframe tbody tr th:only-of-type {\n",
       "        vertical-align: middle;\n",
       "    }\n",
       "\n",
       "    .dataframe tbody tr th {\n",
       "        vertical-align: top;\n",
       "    }\n",
       "\n",
       "    .dataframe thead th {\n",
       "        text-align: right;\n",
       "    }\n",
       "</style>\n",
       "<table border=\"1\" class=\"dataframe\">\n",
       "  <thead>\n",
       "    <tr style=\"text-align: right;\">\n",
       "      <th></th>\n",
       "      <th>BirthAsphyxia</th>\n",
       "      <th>Disease</th>\n",
       "      <th>Sick</th>\n",
       "      <th>Age</th>\n",
       "      <th>LungFlow</th>\n",
       "      <th>LungParench</th>\n",
       "      <th>Grunting</th>\n",
       "      <th>GruntingReport</th>\n",
       "      <th>ChestXray</th>\n",
       "      <th>XrayReport</th>\n",
       "      <th>CO2</th>\n",
       "      <th>CO2Report</th>\n",
       "      <th>CardiacMixing</th>\n",
       "      <th>HypoxiaInO2</th>\n",
       "      <th>RUQO2</th>\n",
       "      <th>DuctFlow</th>\n",
       "      <th>HypDistrib</th>\n",
       "      <th>LowerBodyO2</th>\n",
       "      <th>LVH</th>\n",
       "      <th>LVHreport</th>\n",
       "    </tr>\n",
       "  </thead>\n",
       "  <tbody>\n",
       "    <tr>\n",
       "      <th>0</th>\n",
       "      <td>1</td>\n",
       "      <td>5</td>\n",
       "      <td>0</td>\n",
       "      <td>0</td>\n",
       "      <td>2</td>\n",
       "      <td>1</td>\n",
       "      <td>0</td>\n",
       "      <td>0</td>\n",
       "      <td>3</td>\n",
       "      <td>3</td>\n",
       "      <td>2</td>\n",
       "      <td>1</td>\n",
       "      <td>1</td>\n",
       "      <td>1</td>\n",
       "      <td>2</td>\n",
       "      <td>0</td>\n",
       "      <td>0</td>\n",
       "      <td>2</td>\n",
       "      <td>1</td>\n",
       "      <td>1</td>\n",
       "    </tr>\n",
       "    <tr>\n",
       "      <th>1</th>\n",
       "      <td>1</td>\n",
       "      <td>3</td>\n",
       "      <td>1</td>\n",
       "      <td>1</td>\n",
       "      <td>1</td>\n",
       "      <td>2</td>\n",
       "      <td>0</td>\n",
       "      <td>0</td>\n",
       "      <td>4</td>\n",
       "      <td>4</td>\n",
       "      <td>2</td>\n",
       "      <td>1</td>\n",
       "      <td>2</td>\n",
       "      <td>2</td>\n",
       "      <td>0</td>\n",
       "      <td>0</td>\n",
       "      <td>0</td>\n",
       "      <td>1</td>\n",
       "      <td>0</td>\n",
       "      <td>0</td>\n",
       "    </tr>\n",
       "    <tr>\n",
       "      <th>2</th>\n",
       "      <td>1</td>\n",
       "      <td>3</td>\n",
       "      <td>1</td>\n",
       "      <td>0</td>\n",
       "      <td>1</td>\n",
       "      <td>0</td>\n",
       "      <td>1</td>\n",
       "      <td>1</td>\n",
       "      <td>0</td>\n",
       "      <td>0</td>\n",
       "      <td>0</td>\n",
       "      <td>0</td>\n",
       "      <td>2</td>\n",
       "      <td>1</td>\n",
       "      <td>0</td>\n",
       "      <td>0</td>\n",
       "      <td>0</td>\n",
       "      <td>1</td>\n",
       "      <td>0</td>\n",
       "      <td>0</td>\n",
       "    </tr>\n",
       "    <tr>\n",
       "      <th>3</th>\n",
       "      <td>1</td>\n",
       "      <td>3</td>\n",
       "      <td>1</td>\n",
       "      <td>0</td>\n",
       "      <td>0</td>\n",
       "      <td>0</td>\n",
       "      <td>1</td>\n",
       "      <td>1</td>\n",
       "      <td>0</td>\n",
       "      <td>0</td>\n",
       "      <td>0</td>\n",
       "      <td>0</td>\n",
       "      <td>2</td>\n",
       "      <td>1</td>\n",
       "      <td>0</td>\n",
       "      <td>0</td>\n",
       "      <td>0</td>\n",
       "      <td>1</td>\n",
       "      <td>0</td>\n",
       "      <td>0</td>\n",
       "    </tr>\n",
       "    <tr>\n",
       "      <th>4</th>\n",
       "      <td>0</td>\n",
       "      <td>2</td>\n",
       "      <td>1</td>\n",
       "      <td>2</td>\n",
       "      <td>1</td>\n",
       "      <td>0</td>\n",
       "      <td>1</td>\n",
       "      <td>1</td>\n",
       "      <td>1</td>\n",
       "      <td>1</td>\n",
       "      <td>1</td>\n",
       "      <td>0</td>\n",
       "      <td>1</td>\n",
       "      <td>1</td>\n",
       "      <td>1</td>\n",
       "      <td>0</td>\n",
       "      <td>0</td>\n",
       "      <td>1</td>\n",
       "      <td>1</td>\n",
       "      <td>1</td>\n",
       "    </tr>\n",
       "    <tr>\n",
       "      <th>...</th>\n",
       "      <td>...</td>\n",
       "      <td>...</td>\n",
       "      <td>...</td>\n",
       "      <td>...</td>\n",
       "      <td>...</td>\n",
       "      <td>...</td>\n",
       "      <td>...</td>\n",
       "      <td>...</td>\n",
       "      <td>...</td>\n",
       "      <td>...</td>\n",
       "      <td>...</td>\n",
       "      <td>...</td>\n",
       "      <td>...</td>\n",
       "      <td>...</td>\n",
       "      <td>...</td>\n",
       "      <td>...</td>\n",
       "      <td>...</td>\n",
       "      <td>...</td>\n",
       "      <td>...</td>\n",
       "      <td>...</td>\n",
       "    </tr>\n",
       "    <tr>\n",
       "      <th>9995</th>\n",
       "      <td>1</td>\n",
       "      <td>2</td>\n",
       "      <td>1</td>\n",
       "      <td>1</td>\n",
       "      <td>1</td>\n",
       "      <td>0</td>\n",
       "      <td>1</td>\n",
       "      <td>1</td>\n",
       "      <td>1</td>\n",
       "      <td>1</td>\n",
       "      <td>0</td>\n",
       "      <td>0</td>\n",
       "      <td>2</td>\n",
       "      <td>1</td>\n",
       "      <td>0</td>\n",
       "      <td>0</td>\n",
       "      <td>0</td>\n",
       "      <td>0</td>\n",
       "      <td>1</td>\n",
       "      <td>1</td>\n",
       "    </tr>\n",
       "    <tr>\n",
       "      <th>9996</th>\n",
       "      <td>1</td>\n",
       "      <td>2</td>\n",
       "      <td>0</td>\n",
       "      <td>0</td>\n",
       "      <td>1</td>\n",
       "      <td>0</td>\n",
       "      <td>1</td>\n",
       "      <td>1</td>\n",
       "      <td>1</td>\n",
       "      <td>3</td>\n",
       "      <td>0</td>\n",
       "      <td>0</td>\n",
       "      <td>2</td>\n",
       "      <td>2</td>\n",
       "      <td>1</td>\n",
       "      <td>0</td>\n",
       "      <td>0</td>\n",
       "      <td>0</td>\n",
       "      <td>1</td>\n",
       "      <td>1</td>\n",
       "    </tr>\n",
       "    <tr>\n",
       "      <th>9997</th>\n",
       "      <td>1</td>\n",
       "      <td>1</td>\n",
       "      <td>1</td>\n",
       "      <td>0</td>\n",
       "      <td>2</td>\n",
       "      <td>0</td>\n",
       "      <td>1</td>\n",
       "      <td>1</td>\n",
       "      <td>2</td>\n",
       "      <td>0</td>\n",
       "      <td>0</td>\n",
       "      <td>0</td>\n",
       "      <td>3</td>\n",
       "      <td>2</td>\n",
       "      <td>1</td>\n",
       "      <td>1</td>\n",
       "      <td>0</td>\n",
       "      <td>1</td>\n",
       "      <td>1</td>\n",
       "      <td>1</td>\n",
       "    </tr>\n",
       "    <tr>\n",
       "      <th>9998</th>\n",
       "      <td>1</td>\n",
       "      <td>3</td>\n",
       "      <td>1</td>\n",
       "      <td>0</td>\n",
       "      <td>1</td>\n",
       "      <td>0</td>\n",
       "      <td>1</td>\n",
       "      <td>0</td>\n",
       "      <td>1</td>\n",
       "      <td>1</td>\n",
       "      <td>1</td>\n",
       "      <td>0</td>\n",
       "      <td>2</td>\n",
       "      <td>1</td>\n",
       "      <td>1</td>\n",
       "      <td>0</td>\n",
       "      <td>0</td>\n",
       "      <td>1</td>\n",
       "      <td>0</td>\n",
       "      <td>0</td>\n",
       "    </tr>\n",
       "    <tr>\n",
       "      <th>9999</th>\n",
       "      <td>1</td>\n",
       "      <td>1</td>\n",
       "      <td>1</td>\n",
       "      <td>0</td>\n",
       "      <td>0</td>\n",
       "      <td>0</td>\n",
       "      <td>1</td>\n",
       "      <td>1</td>\n",
       "      <td>0</td>\n",
       "      <td>0</td>\n",
       "      <td>0</td>\n",
       "      <td>0</td>\n",
       "      <td>2</td>\n",
       "      <td>2</td>\n",
       "      <td>2</td>\n",
       "      <td>1</td>\n",
       "      <td>0</td>\n",
       "      <td>2</td>\n",
       "      <td>1</td>\n",
       "      <td>1</td>\n",
       "    </tr>\n",
       "  </tbody>\n",
       "</table>\n",
       "<p>10000 rows × 20 columns</p>\n",
       "</div>"
      ],
      "text/plain": [
       "      BirthAsphyxia  Disease  Sick  Age  LungFlow  LungParench  Grunting  \\\n",
       "0                 1        5     0    0         2            1         0   \n",
       "1                 1        3     1    1         1            2         0   \n",
       "2                 1        3     1    0         1            0         1   \n",
       "3                 1        3     1    0         0            0         1   \n",
       "4                 0        2     1    2         1            0         1   \n",
       "...             ...      ...   ...  ...       ...          ...       ...   \n",
       "9995              1        2     1    1         1            0         1   \n",
       "9996              1        2     0    0         1            0         1   \n",
       "9997              1        1     1    0         2            0         1   \n",
       "9998              1        3     1    0         1            0         1   \n",
       "9999              1        1     1    0         0            0         1   \n",
       "\n",
       "      GruntingReport  ChestXray  XrayReport  CO2  CO2Report  CardiacMixing  \\\n",
       "0                  0          3           3    2          1              1   \n",
       "1                  0          4           4    2          1              2   \n",
       "2                  1          0           0    0          0              2   \n",
       "3                  1          0           0    0          0              2   \n",
       "4                  1          1           1    1          0              1   \n",
       "...              ...        ...         ...  ...        ...            ...   \n",
       "9995               1          1           1    0          0              2   \n",
       "9996               1          1           3    0          0              2   \n",
       "9997               1          2           0    0          0              3   \n",
       "9998               0          1           1    1          0              2   \n",
       "9999               1          0           0    0          0              2   \n",
       "\n",
       "      HypoxiaInO2  RUQO2  DuctFlow  HypDistrib  LowerBodyO2  LVH  LVHreport  \n",
       "0               1      2         0           0            2    1          1  \n",
       "1               2      0         0           0            1    0          0  \n",
       "2               1      0         0           0            1    0          0  \n",
       "3               1      0         0           0            1    0          0  \n",
       "4               1      1         0           0            1    1          1  \n",
       "...           ...    ...       ...         ...          ...  ...        ...  \n",
       "9995            1      0         0           0            0    1          1  \n",
       "9996            2      1         0           0            0    1          1  \n",
       "9997            2      1         1           0            1    1          1  \n",
       "9998            1      1         0           0            1    0          0  \n",
       "9999            2      2         1           0            2    1          1  \n",
       "\n",
       "[10000 rows x 20 columns]"
      ]
     },
     "execution_count": 29,
     "metadata": {},
     "output_type": "execute_result"
    }
   ],
   "source": [
    "df"
   ]
  },
  {
   "cell_type": "code",
   "execution_count": 31,
   "metadata": {},
   "outputs": [],
   "source": [
    "y = df[\"GruntingReport\"].values"
   ]
  },
  {
   "cell_type": "code",
   "execution_count": 32,
   "metadata": {},
   "outputs": [],
   "source": [
    "# add domain labels\n",
    "y = np.stack((y, df[\"CardiacMixing\"].values),1)"
   ]
  },
  {
   "cell_type": "code",
   "execution_count": 33,
   "metadata": {},
   "outputs": [],
   "source": [
    "x_df = df.drop([\"GruntingReport\", \"CardiacMixing\"],axis=1) "
   ]
  },
  {
   "cell_type": "code",
   "execution_count": 34,
   "metadata": {},
   "outputs": [],
   "source": [
    "np.savez('./data/child3Domains.npz', x_df.values, y)"
   ]
  },
  {
   "cell_type": "markdown",
   "metadata": {},
   "source": [
    "# Create a DAG manually"
   ]
  },
  {
   "cell_type": "code",
   "execution_count": 5,
   "metadata": {},
   "outputs": [
    {
     "name": "stdout",
     "output_type": "stream",
     "text": [
      "[bnlearn] >Bayesian DAG created.\n"
     ]
    }
   ],
   "source": [
    "# Define the network structure\n",
    "edges = [('Cloudy', 'Sprinkler'),\n",
    "         ('Cloudy', 'Rain'),\n",
    "         ('Sprinkler', 'Wet_Grass'),\n",
    "         ('Rain', 'Wet_Grass')]\n",
    "\n",
    "# Make the actual Bayesian DAG\n",
    "DAG = bnlearn.make_DAG(edges)"
   ]
  },
  {
   "cell_type": "code",
   "execution_count": 6,
   "metadata": {},
   "outputs": [
    {
     "name": "stdout",
     "output_type": "stream",
     "text": [
      "[bnlearn] >Plot based on BayesianModel\n"
     ]
    },
    {
     "data": {
      "image/png": "[encoded data removed]",
      "text/plain": [
       "<Figure size 1080x576 with 1 Axes>"
      ]
     },
     "metadata": {},
     "output_type": "display_data"
    },
    {
     "data": {
      "text/plain": [
       "{'pos': {'Cloudy': array([ 0.54531726, -1.        ]),\n",
       "  'Sprinkler': array([0.85643477, 0.57072186]),\n",
       "  'Rain': array([-0.75980028, -0.47498882]),\n",
       "  'Wet_Grass': array([-0.64195175,  0.90426696])},\n",
       " 'G': <networkx.classes.digraph.DiGraph at 0x1347d86d8>}"
      ]
     },
     "execution_count": 6,
     "metadata": {},
     "output_type": "execute_result"
    }
   ],
   "source": [
    "bnlearn.plot(DAG)"
   ]
  },
  {
   "cell_type": "markdown",
   "metadata": {},
   "source": [
    "# Adding Conditional Probability Distribtution (CPD) to the causal structure"
   ]
  },
  {
   "cell_type": "code",
   "execution_count": 9,
   "metadata": {},
   "outputs": [
    {
     "name": "stdout",
     "output_type": "stream",
     "text": [
      "+-----------+-----+\n",
      "| Cloudy(0) | 0.5 |\n",
      "+-----------+-----+\n",
      "| Cloudy(1) | 0.5 |\n",
      "+-----------+-----+\n",
      "+--------------+-----------+-----------+\n",
      "| Cloudy       | Cloudy(0) | Cloudy(1) |\n",
      "+--------------+-----------+-----------+\n",
      "| Sprinkler(0) | 0.5       | 0.9       |\n",
      "+--------------+-----------+-----------+\n",
      "| Sprinkler(1) | 0.5       | 0.1       |\n",
      "+--------------+-----------+-----------+\n",
      "+---------+-----------+-----------+\n",
      "| Cloudy  | Cloudy(0) | Cloudy(1) |\n",
      "+---------+-----------+-----------+\n",
      "| Rain(0) | 0.8       | 0.2       |\n",
      "+---------+-----------+-----------+\n",
      "| Rain(1) | 0.2       | 0.8       |\n",
      "+---------+-----------+-----------+\n",
      "+--------------+--------------+--------------+--------------+--------------+\n",
      "| Sprinkler    | Sprinkler(0) | Sprinkler(0) | Sprinkler(1) | Sprinkler(1) |\n",
      "+--------------+--------------+--------------+--------------+--------------+\n",
      "| Rain         | Rain(0)      | Rain(1)      | Rain(0)      | Rain(1)      |\n",
      "+--------------+--------------+--------------+--------------+--------------+\n",
      "| Wet_Grass(0) | 1.0          | 0.1          | 0.1          | 0.01         |\n",
      "+--------------+--------------+--------------+--------------+--------------+\n",
      "| Wet_Grass(1) | 0.0          | 0.9          | 0.9          | 0.99         |\n",
      "+--------------+--------------+--------------+--------------+--------------+\n"
     ]
    }
   ],
   "source": [
    "from pgmpy.factors.discrete import TabularCPD\n",
    "\n",
    "# Cloudy\n",
    "cpt_cloudy = TabularCPD(variable='Cloudy', variable_card=2, values=[[0.5], [0.5]])\n",
    "print(cpt_cloudy)\n",
    "\n",
    "# Sprinkler\n",
    "cpt_sprinkler = TabularCPD(variable='Sprinkler', variable_card=2,\n",
    "                           values=[[0.5, 0.9],\n",
    "                                   [0.5, 0.1]],\n",
    "                           evidence=['Cloudy'], evidence_card=[2])\n",
    "print(cpt_sprinkler)\n",
    "\n",
    "# Rain\n",
    "cpt_rain = TabularCPD(variable='Rain', variable_card=2,\n",
    "                      values=[[0.8, 0.2],\n",
    "                              [0.2, 0.8]],\n",
    "                      evidence=['Cloudy'], evidence_card=[2])\n",
    "print(cpt_rain)\n",
    "\n",
    "# Wet Grass\n",
    "cpt_wet_grass = TabularCPD(variable='Wet_Grass', variable_card=2,\n",
    "                           values=[[1, 0.1, 0.1, 0.01],\n",
    "                                   [0, 0.9, 0.9, 0.99]],\n",
    "                           evidence=['Sprinkler', 'Rain'],\n",
    "                           evidence_card=[2, 2])\n",
    "print(cpt_wet_grass)"
   ]
  },
  {
   "cell_type": "code",
   "execution_count": 10,
   "metadata": {},
   "outputs": [
    {
     "name": "stdout",
     "output_type": "stream",
     "text": [
      "[bnlearn] >No changes made to existing Bayesian DAG.\n",
      "[bnlearn] >Add CPD: Cloudy\n",
      "[bnlearn] >Add CPD: Sprinkler\n",
      "[bnlearn] >Add CPD: Rain\n",
      "[bnlearn] >Add CPD: Wet_Grass\n",
      "[bnlearn] >Checking CPDs..\n",
      "[bnlearn] >Check for DAG structure. Correct: True\n"
     ]
    }
   ],
   "source": [
    "# connect DAG to CPD\n",
    "DAG = bnlearn.make_DAG(DAG, CPD=[cpt_cloudy, cpt_sprinkler, cpt_rain, cpt_wet_grass])"
   ]
  },
  {
   "cell_type": "code",
   "execution_count": 12,
   "metadata": {},
   "outputs": [
    {
     "name": "stdout",
     "output_type": "stream",
     "text": [
      "[bnlearn] >Plot based on BayesianModel\n"
     ]
    },
    {
     "data": {
      "image/png": "[encoded data removed]",
      "text/plain": [
       "<Figure size 1080x576 with 1 Axes>"
      ]
     },
     "metadata": {},
     "output_type": "display_data"
    },
    {
     "data": {
      "text/plain": [
       "{'pos': {'Cloudy': array([0.60907946, 1.        ]),\n",
       "  'Sprinkler': array([ 0.89010065, -0.56255354]),\n",
       "  'Rain': array([-0.69088491, -0.92655431]),\n",
       "  'Wet_Grass': array([-0.8082952 ,  0.48910786])},\n",
       " 'G': <networkx.classes.digraph.DiGraph at 0x1344c05c0>}"
      ]
     },
     "execution_count": 12,
     "metadata": {},
     "output_type": "execute_result"
    }
   ],
   "source": [
    "bnlearn.plot(DAG)"
   ]
  },
  {
   "cell_type": "markdown",
   "metadata": {},
   "source": [
    "# Inference on DAG"
   ]
  },
  {
   "cell_type": "code",
   "execution_count": 11,
   "metadata": {},
   "outputs": [
    {
     "name": "stderr",
     "output_type": "stream",
     "text": [
      "Finding Elimination Order: : : 0it [00:00, ?it/s]\n",
      "0it [00:00, ?it/s]"
     ]
    },
    {
     "name": "stdout",
     "output_type": "stream",
     "text": [
      "[bnlearn] >Variable Elimination..\n",
      "+--------------+------------------+\n",
      "| Wet_Grass    |   phi(Wet_Grass) |\n",
      "+==============+==================+\n",
      "| Wet_Grass(0) |           0.1000 |\n",
      "+--------------+------------------+\n",
      "| Wet_Grass(1) |           0.9000 |\n",
      "+--------------+------------------+\n"
     ]
    },
    {
     "name": "stderr",
     "output_type": "stream",
     "text": [
      "\n"
     ]
    }
   ],
   "source": [
    "q1 = bnlearn.inference.fit(DAG, variables=['Wet_Grass'], evidence={'Rain':1, 'Sprinkler':0, 'Cloudy':1})"
   ]
  },
  {
   "cell_type": "code",
   "execution_count": null,
   "metadata": {},
   "outputs": [],
   "source": []
  }
 ],
 "metadata": {
  "kernelspec": {
   "display_name": "Python 3",
   "language": "python",
   "name": "python3"
  },
  "language_info": {
   "codemirror_mode": {
    "name": "ipython",
    "version": 3
   },
   "file_extension": ".py",
   "mimetype": "text/x-python",
   "name": "python",
   "nbconvert_exporter": "python",
   "pygments_lexer": "ipython3",
   "version": "3.7.3"
  }
 },
 "nbformat": 4,
 "nbformat_minor": 2
}
