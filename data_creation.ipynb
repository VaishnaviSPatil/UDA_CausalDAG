{
 "cells": [
  {
   "cell_type": "code",
   "execution_count": 2,
   "metadata": {},
   "outputs": [],
   "source": [
    "import bnlearn\n",
    "import numpy as np"
   ]
  },
  {
   "cell_type": "markdown",
   "metadata": {},
   "source": [
    "# Sample data points from a DAG"
   ]
  },
  {
   "cell_type": "code",
   "execution_count": 3,
   "metadata": {},
   "outputs": [
    {
     "name": "stdout",
     "output_type": "stream",
     "text": [
      "[bnlearn] >Loading bif file <./data/child.bif>\n"
     ]
    },
    {
     "name": "stderr",
     "output_type": "stream",
     "text": [
      "Generating for node: Disease:   0%|          | 0/20 [00:00<?, ?it/s]      "
     ]
    },
    {
     "name": "stdout",
     "output_type": "stream",
     "text": [
      "[bnlearn] >Checking CPDs..\n",
      "[bnlearn] >Warning: CPD [Age] does not add up to 1 but is: [[1. 1.]\n",
      " [1. 1.]\n",
      " [1. 1.]\n",
      " [1. 1.]\n",
      " [1. 1.]\n",
      " [1. 1.]]\n",
      "[bnlearn] >Warning: CPD [ChestXray] does not add up to 1 but is: [[1. 1. 1.]\n",
      " [1. 1. 1.]\n",
      " [1. 1. 1.]]\n",
      "[bnlearn] >Warning: CPD [HypoxiaInO2] does not add up to 1 but is: [[1. 1. 1.]\n",
      " [1. 1. 1.]\n",
      " [1. 1. 1.]\n",
      " [1. 1. 1.]]\n",
      "[bnlearn] >Warning: CPD [LowerBodyO2] does not add up to 1 but is: [[1. 1. 1.]\n",
      " [1. 1. 1.]]\n",
      "[bnlearn] >Warning: CPD [RUQO2] does not add up to 1 but is: [1. 1. 1.]\n",
      "[bnlearn] >Warning: CPD [XrayReport] does not add up to 1 but is: [1. 1. 1. 1. 1.]\n",
      "[bnlearn] >Check for DAG structure. Correct: True\n",
      "[bnlearn] >Forward sampling for 10000 samples..\n"
     ]
    },
    {
     "name": "stderr",
     "output_type": "stream",
     "text": [
      "Generating for node: LVHreport: 100%|██████████| 20/20 [00:07<00:00,  2.70it/s]    \n"
     ]
    },
    {
     "data": {
      "text/html": [
       "<div>\n",
       "<style scoped>\n",
       "    .dataframe tbody tr th:only-of-type {\n",
       "        vertical-align: middle;\n",
       "    }\n",
       "\n",
       "    .dataframe tbody tr th {\n",
       "        vertical-align: top;\n",
       "    }\n",
       "\n",
       "    .dataframe thead th {\n",
       "        text-align: right;\n",
       "    }\n",
       "</style>\n",
       "<table border=\"1\" class=\"dataframe\">\n",
       "  <thead>\n",
       "    <tr style=\"text-align: right;\">\n",
       "      <th></th>\n",
       "      <th>BirthAsphyxia</th>\n",
       "      <th>Disease</th>\n",
       "      <th>Sick</th>\n",
       "      <th>Age</th>\n",
       "      <th>LungFlow</th>\n",
       "      <th>LungParench</th>\n",
       "      <th>Grunting</th>\n",
       "      <th>GruntingReport</th>\n",
       "      <th>ChestXray</th>\n",
       "      <th>XrayReport</th>\n",
       "      <th>CO2</th>\n",
       "      <th>CO2Report</th>\n",
       "      <th>CardiacMixing</th>\n",
       "      <th>HypoxiaInO2</th>\n",
       "      <th>RUQO2</th>\n",
       "      <th>DuctFlow</th>\n",
       "      <th>HypDistrib</th>\n",
       "      <th>LowerBodyO2</th>\n",
       "      <th>LVH</th>\n",
       "      <th>LVHreport</th>\n",
       "    </tr>\n",
       "  </thead>\n",
       "  <tbody>\n",
       "    <tr>\n",
       "      <th>0</th>\n",
       "      <td>1</td>\n",
       "      <td>3</td>\n",
       "      <td>1</td>\n",
       "      <td>0</td>\n",
       "      <td>0</td>\n",
       "      <td>0</td>\n",
       "      <td>1</td>\n",
       "      <td>1</td>\n",
       "      <td>0</td>\n",
       "      <td>4</td>\n",
       "      <td>0</td>\n",
       "      <td>0</td>\n",
       "      <td>2</td>\n",
       "      <td>1</td>\n",
       "      <td>2</td>\n",
       "      <td>0</td>\n",
       "      <td>0</td>\n",
       "      <td>2</td>\n",
       "      <td>0</td>\n",
       "      <td>0</td>\n",
       "    </tr>\n",
       "    <tr>\n",
       "      <th>1</th>\n",
       "      <td>1</td>\n",
       "      <td>3</td>\n",
       "      <td>1</td>\n",
       "      <td>0</td>\n",
       "      <td>1</td>\n",
       "      <td>0</td>\n",
       "      <td>1</td>\n",
       "      <td>1</td>\n",
       "      <td>2</td>\n",
       "      <td>0</td>\n",
       "      <td>0</td>\n",
       "      <td>0</td>\n",
       "      <td>2</td>\n",
       "      <td>1</td>\n",
       "      <td>1</td>\n",
       "      <td>0</td>\n",
       "      <td>0</td>\n",
       "      <td>1</td>\n",
       "      <td>0</td>\n",
       "      <td>1</td>\n",
       "    </tr>\n",
       "    <tr>\n",
       "      <th>2</th>\n",
       "      <td>1</td>\n",
       "      <td>1</td>\n",
       "      <td>1</td>\n",
       "      <td>1</td>\n",
       "      <td>2</td>\n",
       "      <td>0</td>\n",
       "      <td>1</td>\n",
       "      <td>1</td>\n",
       "      <td>0</td>\n",
       "      <td>0</td>\n",
       "      <td>0</td>\n",
       "      <td>0</td>\n",
       "      <td>3</td>\n",
       "      <td>2</td>\n",
       "      <td>0</td>\n",
       "      <td>1</td>\n",
       "      <td>0</td>\n",
       "      <td>0</td>\n",
       "      <td>1</td>\n",
       "      <td>1</td>\n",
       "    </tr>\n",
       "    <tr>\n",
       "      <th>3</th>\n",
       "      <td>1</td>\n",
       "      <td>2</td>\n",
       "      <td>1</td>\n",
       "      <td>1</td>\n",
       "      <td>0</td>\n",
       "      <td>0</td>\n",
       "      <td>1</td>\n",
       "      <td>1</td>\n",
       "      <td>0</td>\n",
       "      <td>2</td>\n",
       "      <td>0</td>\n",
       "      <td>0</td>\n",
       "      <td>2</td>\n",
       "      <td>1</td>\n",
       "      <td>1</td>\n",
       "      <td>0</td>\n",
       "      <td>0</td>\n",
       "      <td>1</td>\n",
       "      <td>0</td>\n",
       "      <td>0</td>\n",
       "    </tr>\n",
       "    <tr>\n",
       "      <th>4</th>\n",
       "      <td>1</td>\n",
       "      <td>2</td>\n",
       "      <td>1</td>\n",
       "      <td>2</td>\n",
       "      <td>1</td>\n",
       "      <td>0</td>\n",
       "      <td>1</td>\n",
       "      <td>1</td>\n",
       "      <td>1</td>\n",
       "      <td>1</td>\n",
       "      <td>0</td>\n",
       "      <td>0</td>\n",
       "      <td>2</td>\n",
       "      <td>1</td>\n",
       "      <td>1</td>\n",
       "      <td>1</td>\n",
       "      <td>0</td>\n",
       "      <td>1</td>\n",
       "      <td>1</td>\n",
       "      <td>1</td>\n",
       "    </tr>\n",
       "  </tbody>\n",
       "</table>\n",
       "</div>"
      ],
      "text/plain": [
       "   BirthAsphyxia  Disease  Sick  Age  LungFlow  LungParench  Grunting  \\\n",
       "0              1        3     1    0         0            0         1   \n",
       "1              1        3     1    0         1            0         1   \n",
       "2              1        1     1    1         2            0         1   \n",
       "3              1        2     1    1         0            0         1   \n",
       "4              1        2     1    2         1            0         1   \n",
       "\n",
       "   GruntingReport  ChestXray  XrayReport  CO2  CO2Report  CardiacMixing  \\\n",
       "0               1          0           4    0          0              2   \n",
       "1               1          2           0    0          0              2   \n",
       "2               1          0           0    0          0              3   \n",
       "3               1          0           2    0          0              2   \n",
       "4               1          1           1    0          0              2   \n",
       "\n",
       "   HypoxiaInO2  RUQO2  DuctFlow  HypDistrib  LowerBodyO2  LVH  LVHreport  \n",
       "0            1      2         0           0            2    0          0  \n",
       "1            1      1         0           0            1    0          1  \n",
       "2            2      0         1           0            0    1          1  \n",
       "3            1      1         0           0            1    0          0  \n",
       "4            1      1         1           0            1    1          1  "
      ]
     },
     "execution_count": 3,
     "metadata": {},
     "output_type": "execute_result"
    }
   ],
   "source": [
    "# import bayesian graph with conditional probability distribution\n",
    "DAG = bnlearn.import_DAG('./data/child.bif', CPD=True)\n",
    "df = bnlearn.sampling(DAG, n=10000)\n",
    "df.head()"
   ]
  },
  {
   "cell_type": "code",
   "execution_count": 10,
   "metadata": {},
   "outputs": [
    {
     "name": "stdout",
     "output_type": "stream",
     "text": [
      "[bnlearn] >Plot based on BayesianModel\n"
     ]
    },
    {
     "data": {
      "image/png": "[encoded data removed]",
      "text/plain": [
       "<Figure size 1080x576 with 1 Axes>"
      ]
     },
     "metadata": {},
     "output_type": "display_data"
    },
    {
     "data": {
      "text/plain": [
       "{'pos': {'DuctFlow': array([-0.01157793, -1.        ]),\n",
       "  'HypDistrib': array([ 0.53872215, -0.77039267]),\n",
       "  'CardiacMixing': array([-0.33733289,  0.98362427]),\n",
       "  'HypoxiaInO2': array([-0.79783728, -0.56224487]),\n",
       "  'LungParench': array([-0.76428758,  0.54626644]),\n",
       "  'CO2': array([0.81589777, 0.57936283]),\n",
       "  'ChestXray': array([ 0.85947617, -0.00256029]),\n",
       "  'LungFlow': array([-0.57196537, -0.80454144]),\n",
       "  'Grunting': array([ 0.79501513, -0.6249765 ]),\n",
       "  'Sick': array([-0.27766832, -0.86777722]),\n",
       "  'LVH': array([-0.60013575,  0.79665091]),\n",
       "  'LVHreport': array([0.56959814, 0.82552189]),\n",
       "  'LowerBodyO2': array([ 0.94591546, -0.30450867]),\n",
       "  'RUQO2': array([-0.01873429,  0.9753773 ]),\n",
       "  'CO2Report': array([-0.97029144,  0.31903946]),\n",
       "  'XrayReport': array([-0.86690414, -0.27245835]),\n",
       "  'BirthAsphyxia': array([0.97795258, 0.24114213]),\n",
       "  'Disease': array([ 0.31851433, -0.97629343]),\n",
       "  'GruntingReport': array([0.27656368, 0.8899295 ]),\n",
       "  'Age': array([-0.88092041,  0.02883871])},\n",
       " 'G': <networkx.classes.digraph.DiGraph at 0x12c3a7278>}"
      ]
     },
     "execution_count": 10,
     "metadata": {},
     "output_type": "execute_result"
    }
   ],
   "source": [
    "bnlearn.plot(DAG)"
   ]
  },
  {
   "cell_type": "code",
   "execution_count": 11,
   "metadata": {},
   "outputs": [
    {
     "name": "stdout",
     "output_type": "stream",
     "text": [
      "BirthAsphyxia {0, 1}\n",
      "Disease {0, 1, 2, 3, 4, 5}\n",
      "Sick {0, 1}\n",
      "Age {0, 1, 2}\n",
      "LungFlow {0, 1, 2}\n",
      "LungParench {0, 1, 2}\n",
      "Grunting {0, 1}\n",
      "GruntingReport {0, 1}\n",
      "ChestXray {0, 1, 2, 3, 4}\n",
      "XrayReport {0, 1, 2, 3, 4}\n",
      "CO2 {0, 1, 2}\n",
      "CO2Report {0, 1}\n",
      "CardiacMixing {0, 1, 2, 3}\n",
      "HypoxiaInO2 {0, 1, 2}\n",
      "RUQO2 {0, 1, 2}\n",
      "DuctFlow {0, 1, 2}\n",
      "HypDistrib {0, 1}\n",
      "LowerBodyO2 {0, 1, 2}\n",
      "LVH {0, 1}\n",
      "LVHreport {0, 1}\n"
     ]
    }
   ],
   "source": [
    "# check column values\n",
    "for column in df.columns:\n",
    "    print(column, set(df[column].values))"
   ]
  },
  {
   "cell_type": "code",
   "execution_count": 4,
   "metadata": {},
   "outputs": [],
   "source": [
    "# target label comes from GruntingReport node\n",
    "y = df[\"GruntingReport\"].values"
   ]
  },
  {
   "cell_type": "code",
   "execution_count": 7,
   "metadata": {},
   "outputs": [],
   "source": [
    "# add domain label at 1 index in y\n",
    "y = np.stack((y, df[\"Disease\"].values), 1)"
   ]
  },
  {
   "cell_type": "code",
   "execution_count": 8,
   "metadata": {},
   "outputs": [],
   "source": [
    "# remaining nodes form the input features\n",
    "x_df = df.drop([\"GruntingReport\", \"Disease\"],axis=1) "
   ]
  },
  {
   "cell_type": "code",
   "execution_count": 15,
   "metadata": {},
   "outputs": [],
   "source": [
    "cols = list(x_df.columns)"
   ]
  },
  {
   "cell_type": "code",
   "execution_count": 26,
   "metadata": {},
   "outputs": [],
   "source": [
    "# save the x and y values in npz\n",
    "np.savez('./data/child5Domains.npz', x=x_df.values, y=y)"
   ]
  },
  {
   "cell_type": "markdown",
   "metadata": {},
   "source": [
    "# Create the dag_mat file"
   ]
  },
  {
   "cell_type": "code",
   "execution_count": 12,
   "metadata": {},
   "outputs": [],
   "source": [
    "dag_mat = np.zeros((len(x_df.columns),len(x_df.columns)))"
   ]
  },
  {
   "cell_type": "code",
   "execution_count": 20,
   "metadata": {},
   "outputs": [],
   "source": [
    "dag_mat[cols.index(\"BirthAsphyxia\")][cols.index(\"Age\")]=1\n",
    "dag_mat[cols.index(\"BirthAsphyxia\")][cols.index(\"Sick\")]=1\n",
    "dag_mat[cols.index(\"BirthAsphyxia\")][cols.index(\"DuctFlow\")]=1\n",
    "dag_mat[cols.index(\"BirthAsphyxia\")][cols.index(\"CardiacMixing\")]=1\n",
    "dag_mat[cols.index(\"BirthAsphyxia\")][cols.index(\"LungParench\")]=1\n",
    "dag_mat[cols.index(\"BirthAsphyxia\")][cols.index(\"LungFlow\")]=1\n",
    "dag_mat[cols.index(\"BirthAsphyxia\")][cols.index(\"LVH\")]=1\n",
    "dag_mat[cols.index(\"Sick\")][cols.index(\"Age\")]=1\n",
    "dag_mat[cols.index(\"Sick\")][cols.index(\"Grunting\")]=1\n",
    "dag_mat[cols.index(\"DuctFlow\")][cols.index(\"HypDistrib\")]=1\n",
    "dag_mat[cols.index(\"CardiacMixing\")][cols.index(\"HypDistrib\")]=1\n",
    "dag_mat[cols.index(\"CardiacMixing\")][cols.index(\"HypoxiaInO2\")]=1\n",
    "dag_mat[cols.index(\"LungParench\")][cols.index(\"HypoxiaInO2\")]=1\n",
    "dag_mat[cols.index(\"LungParench\")][cols.index(\"Grunting\")]=1\n",
    "dag_mat[cols.index(\"LungParench\")][cols.index(\"CO2\")]=1\n",
    "dag_mat[cols.index(\"LungParench\")][cols.index(\"ChestXray\")]=1\n",
    "dag_mat[cols.index(\"LungFlow\")][cols.index(\"ChestXray\")]=1\n",
    "dag_mat[cols.index(\"LVH\")][cols.index(\"LVHreport\")]=1\n",
    "dag_mat[cols.index(\"ChestXray\")][cols.index(\"XrayReport\")]=1\n",
    "dag_mat[cols.index(\"CO2\")][cols.index(\"CO2Report\")]=1\n",
    "dag_mat[cols.index(\"HypoxiaInO2\")][cols.index(\"RUQO2\")]=1\n",
    "dag_mat[cols.index(\"HypoxiaInO2\")][cols.index(\"LowerBodyO2\")]=1\n",
    "dag_mat[cols.index(\"HypDistrib\")][cols.index(\"LowerBodyO2\")]=1"
   ]
  },
  {
   "cell_type": "code",
   "execution_count": 21,
   "metadata": {},
   "outputs": [],
   "source": [
    "np.savez('./data/dag_mat_child5Domains.npz', mat=dag_mat)"
   ]
  },
  {
   "cell_type": "markdown",
   "metadata": {},
   "source": [
    "# 3 Domains Data"
   ]
  },
  {
   "cell_type": "code",
   "execution_count": 37,
   "metadata": {},
   "outputs": [
    {
     "name": "stderr",
     "output_type": "stream",
     "text": [
      "Generating for node: Disease:   0%|          | 0/20 [00:00<?, ?it/s]      "
     ]
    },
    {
     "name": "stdout",
     "output_type": "stream",
     "text": [
      "[bnlearn] >Forward sampling for 10000 samples..\n"
     ]
    },
    {
     "name": "stderr",
     "output_type": "stream",
     "text": [
      "Generating for node: LVHreport: 100%|██████████| 20/20 [00:07<00:00,  2.64it/s]    \n"
     ]
    }
   ],
   "source": [
    "# Creating dataset for 3 source domains\n",
    "df = bnlearn.sampling(DAG, n=10000)"
   ]
  },
  {
   "cell_type": "code",
   "execution_count": 29,
   "metadata": {},
   "outputs": [
    {
     "data": {
      "text/html": [
       "<div>\n",
       "<style scoped>\n",
       "    .dataframe tbody tr th:only-of-type {\n",
       "        vertical-align: middle;\n",
       "    }\n",
       "\n",
       "    .dataframe tbody tr th {\n",
       "        vertical-align: top;\n",
       "    }\n",
       "\n",
       "    .dataframe thead th {\n",
       "        text-align: right;\n",
       "    }\n",
       "</style>\n",
       "<table border=\"1\" class=\"dataframe\">\n",
       "  <thead>\n",
       "    <tr style=\"text-align: right;\">\n",
       "      <th></th>\n",
       "      <th>BirthAsphyxia</th>\n",
       "      <th>Disease</th>\n",
       "      <th>Sick</th>\n",
       "      <th>Age</th>\n",
       "      <th>LungFlow</th>\n",
       "      <th>LungParench</th>\n",
       "      <th>Grunting</th>\n",
       "      <th>GruntingReport</th>\n",
       "      <th>ChestXray</th>\n",
       "      <th>XrayReport</th>\n",
       "      <th>CO2</th>\n",
       "      <th>CO2Report</th>\n",
       "      <th>CardiacMixing</th>\n",
       "      <th>HypoxiaInO2</th>\n",
       "      <th>RUQO2</th>\n",
       "      <th>DuctFlow</th>\n",
       "      <th>HypDistrib</th>\n",
       "      <th>LowerBodyO2</th>\n",
       "      <th>LVH</th>\n",
       "      <th>LVHreport</th>\n",
       "    </tr>\n",
       "  </thead>\n",
       "  <tbody>\n",
       "    <tr>\n",
       "      <th>0</th>\n",
       "      <td>1</td>\n",
       "      <td>5</td>\n",
       "      <td>0</td>\n",
       "      <td>0</td>\n",
       "      <td>2</td>\n",
       "      <td>1</td>\n",
       "      <td>0</td>\n",
       "      <td>0</td>\n",
       "      <td>3</td>\n",
       "      <td>3</td>\n",
       "      <td>2</td>\n",
       "      <td>1</td>\n",
       "      <td>1</td>\n",
       "      <td>1</td>\n",
       "      <td>2</td>\n",
       "      <td>0</td>\n",
       "      <td>0</td>\n",
       "      <td>2</td>\n",
       "      <td>1</td>\n",
       "      <td>1</td>\n",
       "    </tr>\n",
       "    <tr>\n",
       "      <th>1</th>\n",
       "      <td>1</td>\n",
       "      <td>3</td>\n",
       "      <td>1</td>\n",
       "      <td>1</td>\n",
       "      <td>1</td>\n",
       "      <td>2</td>\n",
       "      <td>0</td>\n",
       "      <td>0</td>\n",
       "      <td>4</td>\n",
       "      <td>4</td>\n",
       "      <td>2</td>\n",
       "      <td>1</td>\n",
       "      <td>2</td>\n",
       "      <td>2</td>\n",
       "      <td>0</td>\n",
       "      <td>0</td>\n",
       "      <td>0</td>\n",
       "      <td>1</td>\n",
       "      <td>0</td>\n",
       "      <td>0</td>\n",
       "    </tr>\n",
       "    <tr>\n",
       "      <th>2</th>\n",
       "      <td>1</td>\n",
       "      <td>3</td>\n",
       "      <td>1</td>\n",
       "      <td>0</td>\n",
       "      <td>1</td>\n",
       "      <td>0</td>\n",
       "      <td>1</td>\n",
       "      <td>1</td>\n",
       "      <td>0</td>\n",
       "      <td>0</td>\n",
       "      <td>0</td>\n",
       "      <td>0</td>\n",
       "      <td>2</td>\n",
       "      <td>1</td>\n",
       "      <td>0</td>\n",
       "      <td>0</td>\n",
       "      <td>0</td>\n",
       "      <td>1</td>\n",
       "      <td>0</td>\n",
       "      <td>0</td>\n",
       "    </tr>\n",
       "    <tr>\n",
       "      <th>3</th>\n",
       "      <td>1</td>\n",
       "      <td>3</td>\n",
       "      <td>1</td>\n",
       "      <td>0</td>\n",
       "      <td>0</td>\n",
       "      <td>0</td>\n",
       "      <td>1</td>\n",
       "      <td>1</td>\n",
       "      <td>0</td>\n",
       "      <td>0</td>\n",
       "      <td>0</td>\n",
       "      <td>0</td>\n",
       "      <td>2</td>\n",
       "      <td>1</td>\n",
       "      <td>0</td>\n",
       "      <td>0</td>\n",
       "      <td>0</td>\n",
       "      <td>1</td>\n",
       "      <td>0</td>\n",
       "      <td>0</td>\n",
       "    </tr>\n",
       "    <tr>\n",
       "      <th>4</th>\n",
       "      <td>0</td>\n",
       "      <td>2</td>\n",
       "      <td>1</td>\n",
       "      <td>2</td>\n",
       "      <td>1</td>\n",
       "      <td>0</td>\n",
       "      <td>1</td>\n",
       "      <td>1</td>\n",
       "      <td>1</td>\n",
       "      <td>1</td>\n",
       "      <td>1</td>\n",
       "      <td>0</td>\n",
       "      <td>1</td>\n",
       "      <td>1</td>\n",
       "      <td>1</td>\n",
       "      <td>0</td>\n",
       "      <td>0</td>\n",
       "      <td>1</td>\n",
       "      <td>1</td>\n",
       "      <td>1</td>\n",
       "    </tr>\n",
       "    <tr>\n",
       "      <th>...</th>\n",
       "      <td>...</td>\n",
       "      <td>...</td>\n",
       "      <td>...</td>\n",
       "      <td>...</td>\n",
       "      <td>...</td>\n",
       "      <td>...</td>\n",
       "      <td>...</td>\n",
       "      <td>...</td>\n",
       "      <td>...</td>\n",
       "      <td>...</td>\n",
       "      <td>...</td>\n",
       "      <td>...</td>\n",
       "      <td>...</td>\n",
       "      <td>...</td>\n",
       "      <td>...</td>\n",
       "      <td>...</td>\n",
       "      <td>...</td>\n",
       "      <td>...</td>\n",
       "      <td>...</td>\n",
       "      <td>...</td>\n",
       "    </tr>\n",
       "    <tr>\n",
       "      <th>9995</th>\n",
       "      <td>1</td>\n",
       "      <td>2</td>\n",
       "      <td>1</td>\n",
       "      <td>1</td>\n",
       "      <td>1</td>\n",
       "      <td>0</td>\n",
       "      <td>1</td>\n",
       "      <td>1</td>\n",
       "      <td>1</td>\n",
       "      <td>1</td>\n",
       "      <td>0</td>\n",
       "      <td>0</td>\n",
       "      <td>2</td>\n",
       "      <td>1</td>\n",
       "      <td>0</td>\n",
       "      <td>0</td>\n",
       "      <td>0</td>\n",
       "      <td>0</td>\n",
       "      <td>1</td>\n",
       "      <td>1</td>\n",
       "    </tr>\n",
       "    <tr>\n",
       "      <th>9996</th>\n",
       "      <td>1</td>\n",
       "      <td>2</td>\n",
       "      <td>0</td>\n",
       "      <td>0</td>\n",
       "      <td>1</td>\n",
       "      <td>0</td>\n",
       "      <td>1</td>\n",
       "      <td>1</td>\n",
       "      <td>1</td>\n",
       "      <td>3</td>\n",
       "      <td>0</td>\n",
       "      <td>0</td>\n",
       "      <td>2</td>\n",
       "      <td>2</td>\n",
       "      <td>1</td>\n",
       "      <td>0</td>\n",
       "      <td>0</td>\n",
       "      <td>0</td>\n",
       "      <td>1</td>\n",
       "      <td>1</td>\n",
       "    </tr>\n",
       "    <tr>\n",
       "      <th>9997</th>\n",
       "      <td>1</td>\n",
       "      <td>1</td>\n",
       "      <td>1</td>\n",
       "      <td>0</td>\n",
       "      <td>2</td>\n",
       "      <td>0</td>\n",
       "      <td>1</td>\n",
       "      <td>1</td>\n",
       "      <td>2</td>\n",
       "      <td>0</td>\n",
       "      <td>0</td>\n",
       "      <td>0</td>\n",
       "      <td>3</td>\n",
       "      <td>2</td>\n",
       "      <td>1</td>\n",
       "      <td>1</td>\n",
       "      <td>0</td>\n",
       "      <td>1</td>\n",
       "      <td>1</td>\n",
       "      <td>1</td>\n",
       "    </tr>\n",
       "    <tr>\n",
       "      <th>9998</th>\n",
       "      <td>1</td>\n",
       "      <td>3</td>\n",
       "      <td>1</td>\n",
       "      <td>0</td>\n",
       "      <td>1</td>\n",
       "      <td>0</td>\n",
       "      <td>1</td>\n",
       "      <td>0</td>\n",
       "      <td>1</td>\n",
       "      <td>1</td>\n",
       "      <td>1</td>\n",
       "      <td>0</td>\n",
       "      <td>2</td>\n",
       "      <td>1</td>\n",
       "      <td>1</td>\n",
       "      <td>0</td>\n",
       "      <td>0</td>\n",
       "      <td>1</td>\n",
       "      <td>0</td>\n",
       "      <td>0</td>\n",
       "    </tr>\n",
       "    <tr>\n",
       "      <th>9999</th>\n",
       "      <td>1</td>\n",
       "      <td>1</td>\n",
       "      <td>1</td>\n",
       "      <td>0</td>\n",
       "      <td>0</td>\n",
       "      <td>0</td>\n",
       "      <td>1</td>\n",
       "      <td>1</td>\n",
       "      <td>0</td>\n",
       "      <td>0</td>\n",
       "      <td>0</td>\n",
       "      <td>0</td>\n",
       "      <td>2</td>\n",
       "      <td>2</td>\n",
       "      <td>2</td>\n",
       "      <td>1</td>\n",
       "      <td>0</td>\n",
       "      <td>2</td>\n",
       "      <td>1</td>\n",
       "      <td>1</td>\n",
       "    </tr>\n",
       "  </tbody>\n",
       "</table>\n",
       "<p>10000 rows × 20 columns</p>\n",
       "</div>"
      ],
      "text/plain": [
       "      BirthAsphyxia  Disease  Sick  Age  LungFlow  LungParench  Grunting  \\\n",
       "0                 1        5     0    0         2            1         0   \n",
       "1                 1        3     1    1         1            2         0   \n",
       "2                 1        3     1    0         1            0         1   \n",
       "3                 1        3     1    0         0            0         1   \n",
       "4                 0        2     1    2         1            0         1   \n",
       "...             ...      ...   ...  ...       ...          ...       ...   \n",
       "9995              1        2     1    1         1            0         1   \n",
       "9996              1        2     0    0         1            0         1   \n",
       "9997              1        1     1    0         2            0         1   \n",
       "9998              1        3     1    0         1            0         1   \n",
       "9999              1        1     1    0         0            0         1   \n",
       "\n",
       "      GruntingReport  ChestXray  XrayReport  CO2  CO2Report  CardiacMixing  \\\n",
       "0                  0          3           3    2          1              1   \n",
       "1                  0          4           4    2          1              2   \n",
       "2                  1          0           0    0          0              2   \n",
       "3                  1          0           0    0          0              2   \n",
       "4                  1          1           1    1          0              1   \n",
       "...              ...        ...         ...  ...        ...            ...   \n",
       "9995               1          1           1    0          0              2   \n",
       "9996               1          1           3    0          0              2   \n",
       "9997               1          2           0    0          0              3   \n",
       "9998               0          1           1    1          0              2   \n",
       "9999               1          0           0    0          0              2   \n",
       "\n",
       "      HypoxiaInO2  RUQO2  DuctFlow  HypDistrib  LowerBodyO2  LVH  LVHreport  \n",
       "0               1      2         0           0            2    1          1  \n",
       "1               2      0         0           0            1    0          0  \n",
       "2               1      0         0           0            1    0          0  \n",
       "3               1      0         0           0            1    0          0  \n",
       "4               1      1         0           0            1    1          1  \n",
       "...           ...    ...       ...         ...          ...  ...        ...  \n",
       "9995            1      0         0           0            0    1          1  \n",
       "9996            2      1         0           0            0    1          1  \n",
       "9997            2      1         1           0            1    1          1  \n",
       "9998            1      1         0           0            1    0          0  \n",
       "9999            2      2         1           0            2    1          1  \n",
       "\n",
       "[10000 rows x 20 columns]"
      ]
     },
     "execution_count": 29,
     "metadata": {},
     "output_type": "execute_result"
    }
   ],
   "source": [
    "df"
   ]
  },
  {
   "cell_type": "code",
   "execution_count": 38,
   "metadata": {},
   "outputs": [],
   "source": [
    "y = df[\"GruntingReport\"].values"
   ]
  },
  {
   "cell_type": "code",
   "execution_count": 39,
   "metadata": {},
   "outputs": [],
   "source": [
    "# add domain labels\n",
    "y = np.stack((y, df[\"CardiacMixing\"].values),1)"
   ]
  },
  {
   "cell_type": "code",
   "execution_count": 40,
   "metadata": {},
   "outputs": [],
   "source": [
    "x_df = df.drop([\"GruntingReport\", \"CardiacMixing\"],axis=1) "
   ]
  },
  {
   "cell_type": "code",
   "execution_count": 41,
   "metadata": {},
   "outputs": [],
   "source": [
    "cols = list(x_df.columns)"
   ]
  },
  {
   "cell_type": "code",
   "execution_count": 34,
   "metadata": {},
   "outputs": [],
   "source": [
    "np.savez('./data/child3Domains.npz', x=x_df.values, y=y)"
   ]
  },
  {
   "cell_type": "markdown",
   "metadata": {},
   "source": [
    "# Create dag mat file"
   ]
  },
  {
   "cell_type": "code",
   "execution_count": 42,
   "metadata": {},
   "outputs": [],
   "source": [
    "dag_mat[cols.index(\"BirthAsphyxia\")][cols.index(\"Disease\")]=1\n",
    "dag_mat[cols.index(\"Disease\")][cols.index(\"Age\")]=1\n",
    "dag_mat[cols.index(\"Disease\")][cols.index(\"Sick\")]=1\n",
    "dag_mat[cols.index(\"Disease\")][cols.index(\"DuctFlow\")]=1\n",
    "dag_mat[cols.index(\"Disease\")][cols.index(\"LungParench\")]=1\n",
    "dag_mat[cols.index(\"Disease\")][cols.index(\"LungFlow\")]=1\n",
    "dag_mat[cols.index(\"Disease\")][cols.index(\"LVH\")]=1\n",
    "dag_mat[cols.index(\"Sick\")][cols.index(\"Age\")]=1\n",
    "dag_mat[cols.index(\"Sick\")][cols.index(\"Grunting\")]=1\n",
    "dag_mat[cols.index(\"DuctFlow\")][cols.index(\"HypDistrib\")]=1\n",
    "dag_mat[cols.index(\"Disease\")][cols.index(\"HypDistrib\")]=1\n",
    "dag_mat[cols.index(\"Disease\")][cols.index(\"HypoxiaInO2\")]=1\n",
    "dag_mat[cols.index(\"LungParench\")][cols.index(\"HypoxiaInO2\")]=1\n",
    "dag_mat[cols.index(\"LungParench\")][cols.index(\"Grunting\")]=1\n",
    "dag_mat[cols.index(\"LungParench\")][cols.index(\"CO2\")]=1\n",
    "dag_mat[cols.index(\"LungParench\")][cols.index(\"ChestXray\")]=1\n",
    "dag_mat[cols.index(\"LungFlow\")][cols.index(\"ChestXray\")]=1\n",
    "dag_mat[cols.index(\"LVH\")][cols.index(\"LVHreport\")]=1\n",
    "dag_mat[cols.index(\"ChestXray\")][cols.index(\"XrayReport\")]=1\n",
    "dag_mat[cols.index(\"CO2\")][cols.index(\"CO2Report\")]=1\n",
    "dag_mat[cols.index(\"HypoxiaInO2\")][cols.index(\"RUQO2\")]=1\n",
    "dag_mat[cols.index(\"HypoxiaInO2\")][cols.index(\"LowerBodyO2\")]=1\n",
    "dag_mat[cols.index(\"HypDistrib\")][cols.index(\"LowerBodyO2\")]=1"
   ]
  },
  {
   "cell_type": "code",
   "execution_count": 43,
   "metadata": {},
   "outputs": [],
   "source": [
    "np.savez('./data/dag_mat_child3Domains.npz', mat=dag_mat)"
   ]
  },
  {
   "cell_type": "markdown",
   "metadata": {},
   "source": [
    "# Create a DAG manually"
   ]
  },
  {
   "cell_type": "code",
   "execution_count": 5,
   "metadata": {},
   "outputs": [
    {
     "name": "stdout",
     "output_type": "stream",
     "text": [
      "[bnlearn] >Bayesian DAG created.\n"
     ]
    }
   ],
   "source": [
    "# Define the network structure\n",
    "edges = [('Cloudy', 'Sprinkler'),\n",
    "         ('Cloudy', 'Rain'),\n",
    "         ('Sprinkler', 'Wet_Grass'),\n",
    "         ('Rain', 'Wet_Grass')]\n",
    "\n",
    "# Make the actual Bayesian DAG\n",
    "DAG = bnlearn.make_DAG(edges)"
   ]
  },
  {
   "cell_type": "code",
   "execution_count": 6,
   "metadata": {},
   "outputs": [
    {
     "name": "stdout",
     "output_type": "stream",
     "text": [
      "[bnlearn] >Plot based on BayesianModel\n"
     ]
    },
    {
     "data": {
      "image/png": "[encoded data removed]",
      "text/plain": [
       "<Figure size 1080x576 with 1 Axes>"
      ]
     },
     "metadata": {},
     "output_type": "display_data"
    },
    {
     "data": {
      "text/plain": [
       "{'pos': {'Cloudy': array([ 0.54531726, -1.        ]),\n",
       "  'Sprinkler': array([0.85643477, 0.57072186]),\n",
       "  'Rain': array([-0.75980028, -0.47498882]),\n",
       "  'Wet_Grass': array([-0.64195175,  0.90426696])},\n",
       " 'G': <networkx.classes.digraph.DiGraph at 0x1347d86d8>}"
      ]
     },
     "execution_count": 6,
     "metadata": {},
     "output_type": "execute_result"
    }
   ],
   "source": [
    "bnlearn.plot(DAG)"
   ]
  },
  {
   "cell_type": "markdown",
   "metadata": {},
   "source": [
    "# Adding Conditional Probability Distribtution (CPD) to the causal structure"
   ]
  },
  {
   "cell_type": "code",
   "execution_count": 9,
   "metadata": {},
   "outputs": [
    {
     "name": "stdout",
     "output_type": "stream",
     "text": [
      "+-----------+-----+\n",
      "| Cloudy(0) | 0.5 |\n",
      "+-----------+-----+\n",
      "| Cloudy(1) | 0.5 |\n",
      "+-----------+-----+\n",
      "+--------------+-----------+-----------+\n",
      "| Cloudy       | Cloudy(0) | Cloudy(1) |\n",
      "+--------------+-----------+-----------+\n",
      "| Sprinkler(0) | 0.5       | 0.9       |\n",
      "+--------------+-----------+-----------+\n",
      "| Sprinkler(1) | 0.5       | 0.1       |\n",
      "+--------------+-----------+-----------+\n",
      "+---------+-----------+-----------+\n",
      "| Cloudy  | Cloudy(0) | Cloudy(1) |\n",
      "+---------+-----------+-----------+\n",
      "| Rain(0) | 0.8       | 0.2       |\n",
      "+---------+-----------+-----------+\n",
      "| Rain(1) | 0.2       | 0.8       |\n",
      "+---------+-----------+-----------+\n",
      "+--------------+--------------+--------------+--------------+--------------+\n",
      "| Sprinkler    | Sprinkler(0) | Sprinkler(0) | Sprinkler(1) | Sprinkler(1) |\n",
      "+--------------+--------------+--------------+--------------+--------------+\n",
      "| Rain         | Rain(0)      | Rain(1)      | Rain(0)      | Rain(1)      |\n",
      "+--------------+--------------+--------------+--------------+--------------+\n",
      "| Wet_Grass(0) | 1.0          | 0.1          | 0.1          | 0.01         |\n",
      "+--------------+--------------+--------------+--------------+--------------+\n",
      "| Wet_Grass(1) | 0.0          | 0.9          | 0.9          | 0.99         |\n",
      "+--------------+--------------+--------------+--------------+--------------+\n"
     ]
    }
   ],
   "source": [
    "from pgmpy.factors.discrete import TabularCPD\n",
    "\n",
    "# Cloudy\n",
    "cpt_cloudy = TabularCPD(variable='Cloudy', variable_card=2, values=[[0.5], [0.5]])\n",
    "print(cpt_cloudy)\n",
    "\n",
    "# Sprinkler\n",
    "cpt_sprinkler = TabularCPD(variable='Sprinkler', variable_card=2,\n",
    "                           values=[[0.5, 0.9],\n",
    "                                   [0.5, 0.1]],\n",
    "                           evidence=['Cloudy'], evidence_card=[2])\n",
    "print(cpt_sprinkler)\n",
    "\n",
    "# Rain\n",
    "cpt_rain = TabularCPD(variable='Rain', variable_card=2,\n",
    "                      values=[[0.8, 0.2],\n",
    "                              [0.2, 0.8]],\n",
    "                      evidence=['Cloudy'], evidence_card=[2])\n",
    "print(cpt_rain)\n",
    "\n",
    "# Wet Grass\n",
    "cpt_wet_grass = TabularCPD(variable='Wet_Grass', variable_card=2,\n",
    "                           values=[[1, 0.1, 0.1, 0.01],\n",
    "                                   [0, 0.9, 0.9, 0.99]],\n",
    "                           evidence=['Sprinkler', 'Rain'],\n",
    "                           evidence_card=[2, 2])\n",
    "print(cpt_wet_grass)"
   ]
  },
  {
   "cell_type": "code",
   "execution_count": 10,
   "metadata": {},
   "outputs": [
    {
     "name": "stdout",
     "output_type": "stream",
     "text": [
      "[bnlearn] >No changes made to existing Bayesian DAG.\n",
      "[bnlearn] >Add CPD: Cloudy\n",
      "[bnlearn] >Add CPD: Sprinkler\n",
      "[bnlearn] >Add CPD: Rain\n",
      "[bnlearn] >Add CPD: Wet_Grass\n",
      "[bnlearn] >Checking CPDs..\n",
      "[bnlearn] >Check for DAG structure. Correct: True\n"
     ]
    }
   ],
   "source": [
    "# connect DAG to CPD\n",
    "DAG = bnlearn.make_DAG(DAG, CPD=[cpt_cloudy, cpt_sprinkler, cpt_rain, cpt_wet_grass])"
   ]
  },
  {
   "cell_type": "code",
   "execution_count": 12,
   "metadata": {},
   "outputs": [
    {
     "name": "stdout",
     "output_type": "stream",
     "text": [
      "[bnlearn] >Plot based on BayesianModel\n"
     ]
    },
    {
     "data": {
      "image/png": "[encoded data removed]",
      "text/plain": [
       "<Figure size 1080x576 with 1 Axes>"
      ]
     },
     "metadata": {},
     "output_type": "display_data"
    },
    {
     "data": {
      "text/plain": [
       "{'pos': {'Cloudy': array([0.60907946, 1.        ]),\n",
       "  'Sprinkler': array([ 0.89010065, -0.56255354]),\n",
       "  'Rain': array([-0.69088491, -0.92655431]),\n",
       "  'Wet_Grass': array([-0.8082952 ,  0.48910786])},\n",
       " 'G': <networkx.classes.digraph.DiGraph at 0x1344c05c0>}"
      ]
     },
     "execution_count": 12,
     "metadata": {},
     "output_type": "execute_result"
    }
   ],
   "source": [
    "bnlearn.plot(DAG)"
   ]
  },
  {
   "cell_type": "markdown",
   "metadata": {},
   "source": [
    "# Inference on DAG"
   ]
  },
  {
   "cell_type": "code",
   "execution_count": 11,
   "metadata": {},
   "outputs": [
    {
     "name": "stderr",
     "output_type": "stream",
     "text": [
      "Finding Elimination Order: : : 0it [00:00, ?it/s]\n",
      "0it [00:00, ?it/s]"
     ]
    },
    {
     "name": "stdout",
     "output_type": "stream",
     "text": [
      "[bnlearn] >Variable Elimination..\n",
      "+--------------+------------------+\n",
      "| Wet_Grass    |   phi(Wet_Grass) |\n",
      "+==============+==================+\n",
      "| Wet_Grass(0) |           0.1000 |\n",
      "+--------------+------------------+\n",
      "| Wet_Grass(1) |           0.9000 |\n",
      "+--------------+------------------+\n"
     ]
    },
    {
     "name": "stderr",
     "output_type": "stream",
     "text": [
      "\n"
     ]
    }
   ],
   "source": [
    "q1 = bnlearn.inference.fit(DAG, variables=['Wet_Grass'], evidence={'Rain':1, 'Sprinkler':0, 'Cloudy':1})"
   ]
  },
  {
   "cell_type": "markdown",
   "metadata": {},
   "source": [
    "# Sample data from asia graph"
   ]
  },
  {
   "cell_type": "code",
   "execution_count": 3,
   "metadata": {},
   "outputs": [
    {
     "name": "stdout",
     "output_type": "stream",
     "text": [
      "[bnlearn] >Loading bif file <//anaconda3/lib/python3.7/site-packages/bnlearn/data/ASIA/asia.bif>\n"
     ]
    },
    {
     "name": "stderr",
     "output_type": "stream",
     "text": [
      "Generating for node: lung:  25%|██▌       | 2/8 [00:00<00:00, 15.28it/s] "
     ]
    },
    {
     "name": "stdout",
     "output_type": "stream",
     "text": [
      "[bnlearn] >Checking CPDs..\n",
      "[bnlearn] >Check for DAG structure. Correct: True\n",
      "[bnlearn] >Forward sampling for 2000 samples..\n"
     ]
    },
    {
     "name": "stderr",
     "output_type": "stream",
     "text": [
      "Generating for node: xray: 100%|██████████| 8/8 [00:00<00:00,  8.66it/s]  \n"
     ]
    },
    {
     "data": {
      "text/html": [
       "<div>\n",
       "<style scoped>\n",
       "    .dataframe tbody tr th:only-of-type {\n",
       "        vertical-align: middle;\n",
       "    }\n",
       "\n",
       "    .dataframe tbody tr th {\n",
       "        vertical-align: top;\n",
       "    }\n",
       "\n",
       "    .dataframe thead th {\n",
       "        text-align: right;\n",
       "    }\n",
       "</style>\n",
       "<table border=\"1\" class=\"dataframe\">\n",
       "  <thead>\n",
       "    <tr style=\"text-align: right;\">\n",
       "      <th></th>\n",
       "      <th>smoke</th>\n",
       "      <th>bronc</th>\n",
       "      <th>lung</th>\n",
       "      <th>asia</th>\n",
       "      <th>tub</th>\n",
       "      <th>either</th>\n",
       "      <th>dysp</th>\n",
       "      <th>xray</th>\n",
       "    </tr>\n",
       "  </thead>\n",
       "  <tbody>\n",
       "    <tr>\n",
       "      <th>0</th>\n",
       "      <td>0</td>\n",
       "      <td>0</td>\n",
       "      <td>1</td>\n",
       "      <td>1</td>\n",
       "      <td>1</td>\n",
       "      <td>1</td>\n",
       "      <td>0</td>\n",
       "      <td>1</td>\n",
       "    </tr>\n",
       "    <tr>\n",
       "      <th>1</th>\n",
       "      <td>0</td>\n",
       "      <td>0</td>\n",
       "      <td>1</td>\n",
       "      <td>1</td>\n",
       "      <td>1</td>\n",
       "      <td>1</td>\n",
       "      <td>0</td>\n",
       "      <td>1</td>\n",
       "    </tr>\n",
       "    <tr>\n",
       "      <th>2</th>\n",
       "      <td>0</td>\n",
       "      <td>1</td>\n",
       "      <td>1</td>\n",
       "      <td>1</td>\n",
       "      <td>1</td>\n",
       "      <td>1</td>\n",
       "      <td>1</td>\n",
       "      <td>1</td>\n",
       "    </tr>\n",
       "    <tr>\n",
       "      <th>3</th>\n",
       "      <td>0</td>\n",
       "      <td>1</td>\n",
       "      <td>1</td>\n",
       "      <td>1</td>\n",
       "      <td>1</td>\n",
       "      <td>1</td>\n",
       "      <td>1</td>\n",
       "      <td>1</td>\n",
       "    </tr>\n",
       "    <tr>\n",
       "      <th>4</th>\n",
       "      <td>1</td>\n",
       "      <td>1</td>\n",
       "      <td>1</td>\n",
       "      <td>1</td>\n",
       "      <td>1</td>\n",
       "      <td>1</td>\n",
       "      <td>1</td>\n",
       "      <td>1</td>\n",
       "    </tr>\n",
       "  </tbody>\n",
       "</table>\n",
       "</div>"
      ],
      "text/plain": [
       "   smoke  bronc  lung  asia  tub  either  dysp  xray\n",
       "0      0      0     1     1    1       1     0     1\n",
       "1      0      0     1     1    1       1     0     1\n",
       "2      0      1     1     1    1       1     1     1\n",
       "3      0      1     1     1    1       1     1     1\n",
       "4      1      1     1     1    1       1     1     1"
      ]
     },
     "execution_count": 3,
     "metadata": {},
     "output_type": "execute_result"
    }
   ],
   "source": [
    "# import bayesian graph with conditional probability distribution\n",
    "DAG = bnlearn.import_DAG('asia', CPD=True)\n",
    "df = bnlearn.sampling(DAG, n=2000)\n",
    "df.head()"
   ]
  },
  {
   "cell_type": "code",
   "execution_count": 4,
   "metadata": {},
   "outputs": [
    {
     "name": "stdout",
     "output_type": "stream",
     "text": [
      "smoke {0, 1}\n",
      "bronc {0, 1}\n",
      "lung {0, 1}\n",
      "asia {0, 1}\n",
      "tub {0, 1}\n",
      "either {0, 1}\n",
      "dysp {0, 1}\n",
      "xray {0, 1}\n"
     ]
    }
   ],
   "source": [
    "# check column values\n",
    "for column in df.columns:\n",
    "    print(column, set(df[column].values))"
   ]
  },
  {
   "cell_type": "code",
   "execution_count": 5,
   "metadata": {},
   "outputs": [],
   "source": [
    "# target label comes from GruntingReport node\n",
    "y = df[\"xray\"].values"
   ]
  },
  {
   "cell_type": "code",
   "execution_count": 6,
   "metadata": {},
   "outputs": [],
   "source": [
    "# add domain label at 1 index in y\n",
    "labels = []\n",
    "\n",
    "for i,j in zip(df[\"asia\"].values, df[\"smoke\"].values):\n",
    "    if i==0 and j==0:\n",
    "        labels.append(0)\n",
    "    elif i==0 and j==1:\n",
    "        labels.append(1)\n",
    "    elif i==1 and j==0:\n",
    "        labels.append(2)\n",
    "    else:\n",
    "        labels.append(3)\n",
    "        \n",
    "y = np.stack((y, labels), 1)"
   ]
  },
  {
   "cell_type": "code",
   "execution_count": 7,
   "metadata": {},
   "outputs": [],
   "source": [
    "# remaining nodes form the input features\n",
    "x_df = df.drop([\"asia\", \"smoke\", \"xray\"],axis=1) "
   ]
  },
  {
   "cell_type": "code",
   "execution_count": 8,
   "metadata": {},
   "outputs": [],
   "source": [
    "cols = list(x_df.columns)"
   ]
  },
  {
   "cell_type": "code",
   "execution_count": 9,
   "metadata": {},
   "outputs": [
    {
     "data": {
      "text/plain": [
       "['bronc', 'lung', 'tub', 'either', 'dysp']"
      ]
     },
     "execution_count": 9,
     "metadata": {},
     "output_type": "execute_result"
    }
   ],
   "source": [
    "cols"
   ]
  },
  {
   "cell_type": "code",
   "execution_count": 11,
   "metadata": {},
   "outputs": [],
   "source": [
    "# save the x and y values in npz\n",
    "np.savez('./data/asia4Domains.npz', x=x_df.values, y=y)"
   ]
  },
  {
   "cell_type": "code",
   "execution_count": 12,
   "metadata": {},
   "outputs": [],
   "source": [
    "dag_mat = np.zeros((len(x_df.columns),len(x_df.columns)))"
   ]
  },
  {
   "cell_type": "code",
   "execution_count": 13,
   "metadata": {},
   "outputs": [],
   "source": [
    "dag_mat[cols.index(\"bronc\")][cols.index(\"dysp\")]=1\n",
    "dag_mat[cols.index(\"lung\")][cols.index(\"either\")]=1\n",
    "dag_mat[cols.index(\"tub\")][cols.index(\"either\")]=1\n",
    "dag_mat[cols.index(\"either\")][cols.index(\"dysp\")]=1"
   ]
  },
  {
   "cell_type": "code",
   "execution_count": 14,
   "metadata": {},
   "outputs": [
    {
     "data": {
      "text/plain": [
       "(5, 5)"
      ]
     },
     "execution_count": 14,
     "metadata": {},
     "output_type": "execute_result"
    }
   ],
   "source": [
    "dag_mat.shape"
   ]
  },
  {
   "cell_type": "code",
   "execution_count": 15,
   "metadata": {},
   "outputs": [],
   "source": [
    "np.savez('./data/dag_mat_asia4Domains.npz', mat=dag_mat)"
   ]
  },
  {
   "cell_type": "code",
   "execution_count": null,
   "metadata": {},
   "outputs": [],
   "source": []
  }
 ],
 "metadata": {
  "kernelspec": {
   "display_name": "Python 3",
   "language": "python",
   "name": "python3"
  },
  "language_info": {
   "codemirror_mode": {
    "name": "ipython",
    "version": 3
   },
   "file_extension": ".py",
   "mimetype": "text/x-python",
   "name": "python",
   "nbconvert_exporter": "python",
   "pygments_lexer": "ipython3",
   "version": "3.7.3"
  }
 },
 "nbformat": 4,
 "nbformat_minor": 2
}
